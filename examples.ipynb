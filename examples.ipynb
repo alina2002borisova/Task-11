{
  "nbformat": 4,
  "nbformat_minor": 0,
  "metadata": {
    "colab": {
      "provenance": []
    },
    "kernelspec": {
      "name": "python3",
      "display_name": "Python 3"
    },
    "language_info": {
      "name": "python"
    }
  },
  "cells": [
    {
      "cell_type": "markdown",
      "source": [
        "Task_3.py\n",
        "\n",
        "Этот код предназначен для анализа текста с веб-страницы и выполняет следующее:\n",
        "\n",
        "*   Скачивает HTML-документа по указанному URL\n",
        "*   Извлекает фрагмента текста\n",
        "*   Проводит анализ контекста слова"
      ],
      "metadata": {
        "id": "KV1sw_xQPAkU"
      }
    },
    {
      "cell_type": "code",
      "execution_count": 3,
      "metadata": {
        "colab": {
          "base_uri": "https://localhost:8080/",
          "height": 73
        },
        "id": "ekAMrhDI5qY4",
        "outputId": "8b0e27d2-75a7-4c12-a3ac-27c19f2841be"
      },
      "outputs": [
        {
          "output_type": "display_data",
          "data": {
            "text/plain": [
              "<IPython.core.display.HTML object>"
            ],
            "text/html": [
              "\n",
              "     <input type=\"file\" id=\"files-c42b3cae-0602-4ac8-a011-e8c30e43bf15\" name=\"files[]\" multiple disabled\n",
              "        style=\"border:none\" />\n",
              "     <output id=\"result-c42b3cae-0602-4ac8-a011-e8c30e43bf15\">\n",
              "      Upload widget is only available when the cell has been executed in the\n",
              "      current browser session. Please rerun this cell to enable.\n",
              "      </output>\n",
              "      <script>// Copyright 2017 Google LLC\n",
              "//\n",
              "// Licensed under the Apache License, Version 2.0 (the \"License\");\n",
              "// you may not use this file except in compliance with the License.\n",
              "// You may obtain a copy of the License at\n",
              "//\n",
              "//      http://www.apache.org/licenses/LICENSE-2.0\n",
              "//\n",
              "// Unless required by applicable law or agreed to in writing, software\n",
              "// distributed under the License is distributed on an \"AS IS\" BASIS,\n",
              "// WITHOUT WARRANTIES OR CONDITIONS OF ANY KIND, either express or implied.\n",
              "// See the License for the specific language governing permissions and\n",
              "// limitations under the License.\n",
              "\n",
              "/**\n",
              " * @fileoverview Helpers for google.colab Python module.\n",
              " */\n",
              "(function(scope) {\n",
              "function span(text, styleAttributes = {}) {\n",
              "  const element = document.createElement('span');\n",
              "  element.textContent = text;\n",
              "  for (const key of Object.keys(styleAttributes)) {\n",
              "    element.style[key] = styleAttributes[key];\n",
              "  }\n",
              "  return element;\n",
              "}\n",
              "\n",
              "// Max number of bytes which will be uploaded at a time.\n",
              "const MAX_PAYLOAD_SIZE = 100 * 1024;\n",
              "\n",
              "function _uploadFiles(inputId, outputId) {\n",
              "  const steps = uploadFilesStep(inputId, outputId);\n",
              "  const outputElement = document.getElementById(outputId);\n",
              "  // Cache steps on the outputElement to make it available for the next call\n",
              "  // to uploadFilesContinue from Python.\n",
              "  outputElement.steps = steps;\n",
              "\n",
              "  return _uploadFilesContinue(outputId);\n",
              "}\n",
              "\n",
              "// This is roughly an async generator (not supported in the browser yet),\n",
              "// where there are multiple asynchronous steps and the Python side is going\n",
              "// to poll for completion of each step.\n",
              "// This uses a Promise to block the python side on completion of each step,\n",
              "// then passes the result of the previous step as the input to the next step.\n",
              "function _uploadFilesContinue(outputId) {\n",
              "  const outputElement = document.getElementById(outputId);\n",
              "  const steps = outputElement.steps;\n",
              "\n",
              "  const next = steps.next(outputElement.lastPromiseValue);\n",
              "  return Promise.resolve(next.value.promise).then((value) => {\n",
              "    // Cache the last promise value to make it available to the next\n",
              "    // step of the generator.\n",
              "    outputElement.lastPromiseValue = value;\n",
              "    return next.value.response;\n",
              "  });\n",
              "}\n",
              "\n",
              "/**\n",
              " * Generator function which is called between each async step of the upload\n",
              " * process.\n",
              " * @param {string} inputId Element ID of the input file picker element.\n",
              " * @param {string} outputId Element ID of the output display.\n",
              " * @return {!Iterable<!Object>} Iterable of next steps.\n",
              " */\n",
              "function* uploadFilesStep(inputId, outputId) {\n",
              "  const inputElement = document.getElementById(inputId);\n",
              "  inputElement.disabled = false;\n",
              "\n",
              "  const outputElement = document.getElementById(outputId);\n",
              "  outputElement.innerHTML = '';\n",
              "\n",
              "  const pickedPromise = new Promise((resolve) => {\n",
              "    inputElement.addEventListener('change', (e) => {\n",
              "      resolve(e.target.files);\n",
              "    });\n",
              "  });\n",
              "\n",
              "  const cancel = document.createElement('button');\n",
              "  inputElement.parentElement.appendChild(cancel);\n",
              "  cancel.textContent = 'Cancel upload';\n",
              "  const cancelPromise = new Promise((resolve) => {\n",
              "    cancel.onclick = () => {\n",
              "      resolve(null);\n",
              "    };\n",
              "  });\n",
              "\n",
              "  // Wait for the user to pick the files.\n",
              "  const files = yield {\n",
              "    promise: Promise.race([pickedPromise, cancelPromise]),\n",
              "    response: {\n",
              "      action: 'starting',\n",
              "    }\n",
              "  };\n",
              "\n",
              "  cancel.remove();\n",
              "\n",
              "  // Disable the input element since further picks are not allowed.\n",
              "  inputElement.disabled = true;\n",
              "\n",
              "  if (!files) {\n",
              "    return {\n",
              "      response: {\n",
              "        action: 'complete',\n",
              "      }\n",
              "    };\n",
              "  }\n",
              "\n",
              "  for (const file of files) {\n",
              "    const li = document.createElement('li');\n",
              "    li.append(span(file.name, {fontWeight: 'bold'}));\n",
              "    li.append(span(\n",
              "        `(${file.type || 'n/a'}) - ${file.size} bytes, ` +\n",
              "        `last modified: ${\n",
              "            file.lastModifiedDate ? file.lastModifiedDate.toLocaleDateString() :\n",
              "                                    'n/a'} - `));\n",
              "    const percent = span('0% done');\n",
              "    li.appendChild(percent);\n",
              "\n",
              "    outputElement.appendChild(li);\n",
              "\n",
              "    const fileDataPromise = new Promise((resolve) => {\n",
              "      const reader = new FileReader();\n",
              "      reader.onload = (e) => {\n",
              "        resolve(e.target.result);\n",
              "      };\n",
              "      reader.readAsArrayBuffer(file);\n",
              "    });\n",
              "    // Wait for the data to be ready.\n",
              "    let fileData = yield {\n",
              "      promise: fileDataPromise,\n",
              "      response: {\n",
              "        action: 'continue',\n",
              "      }\n",
              "    };\n",
              "\n",
              "    // Use a chunked sending to avoid message size limits. See b/62115660.\n",
              "    let position = 0;\n",
              "    do {\n",
              "      const length = Math.min(fileData.byteLength - position, MAX_PAYLOAD_SIZE);\n",
              "      const chunk = new Uint8Array(fileData, position, length);\n",
              "      position += length;\n",
              "\n",
              "      const base64 = btoa(String.fromCharCode.apply(null, chunk));\n",
              "      yield {\n",
              "        response: {\n",
              "          action: 'append',\n",
              "          file: file.name,\n",
              "          data: base64,\n",
              "        },\n",
              "      };\n",
              "\n",
              "      let percentDone = fileData.byteLength === 0 ?\n",
              "          100 :\n",
              "          Math.round((position / fileData.byteLength) * 100);\n",
              "      percent.textContent = `${percentDone}% done`;\n",
              "\n",
              "    } while (position < fileData.byteLength);\n",
              "  }\n",
              "\n",
              "  // All done.\n",
              "  yield {\n",
              "    response: {\n",
              "      action: 'complete',\n",
              "    }\n",
              "  };\n",
              "}\n",
              "\n",
              "scope.google = scope.google || {};\n",
              "scope.google.colab = scope.google.colab || {};\n",
              "scope.google.colab._files = {\n",
              "  _uploadFiles,\n",
              "  _uploadFilesContinue,\n",
              "};\n",
              "})(self);\n",
              "</script> "
            ]
          },
          "metadata": {}
        },
        {
          "output_type": "stream",
          "name": "stdout",
          "text": [
            "Saving task_3.py to task_3.py\n"
          ]
        }
      ],
      "source": [
        "from google.colab import files\n",
        "\n",
        "uploaded = files.upload()"
      ]
    },
    {
      "cell_type": "code",
      "source": [
        "# URL с книгой \"Улисс\" Джеймса Джойса\n",
        "import task_3\n",
        "\n",
        "url = \"https://www.gutenberg.org/files/4300/4300-h/4300-h.htm\"\n",
        "\n"
      ],
      "metadata": {
        "id": "mSdjrVkiQfBT"
      },
      "execution_count": 4,
      "outputs": []
    },
    {
      "cell_type": "code",
      "source": [
        "# Загрузка HTML\n",
        "html = task_3.download_webpage(url)\n",
        "\n",
        "if html:\n",
        "    print(\"HTML успешно загружен.\")\n",
        "else:\n",
        "    print(\"Ошибка при загрузке страницы.\")"
      ],
      "metadata": {
        "colab": {
          "base_uri": "https://localhost:8080/"
        },
        "id": "b5J0peImQo0n",
        "outputId": "b75770ed-561b-46d6-f2bd-3e3690ecb6b2"
      },
      "execution_count": 5,
      "outputs": [
        {
          "output_type": "stream",
          "name": "stdout",
          "text": [
            "HTML успешно загружен.\n"
          ]
        }
      ]
    },
    {
      "cell_type": "code",
      "source": [
        "# Извлечение текста первой главы\n",
        "chapter_text = task_3.extract_chapter1_text(html)\n",
        "\n",
        "if chapter_text:\n",
        "    print(\"Текст первой главы:\")\n",
        "    print(chapter_text[:500] + \"...\")\n",
        "else:\n",
        "    print(\"Не удалось извлечь первую главу.\")"
      ],
      "metadata": {
        "colab": {
          "base_uri": "https://localhost:8080/"
        },
        "id": "g4ON-T6IQuRN",
        "outputId": "899359a1-9f66-4405-e7ce-969ad83cdec5"
      },
      "execution_count": 6,
      "outputs": [
        {
          "output_type": "stream",
          "name": "stdout",
          "text": [
            "Текст первой главы:\n",
            "Stately, plump Buck Mulligan came from the stairhead, bearing a bowl of lather on which a mirror and a razor lay crossed. A yellow dressinggown, ungirdled, was sustained gently behind him on the mild morning air. He held the bowl aloft and intoned: — Introibo ad altare Dei . Halted, he peered down the dark winding stairs and called out coarsely: —Come up, Kinch! Come up, you fearful jesuit! Solemnly he came forward and mounted the round gunrest. He faced about and blessed gravely thrice the towe...\n"
          ]
        }
      ]
    },
    {
      "cell_type": "code",
      "source": [
        "# Подсчет частоты всех слов в главе\n",
        "word_freq = task_3.count_word_frequencies(chapter_text)\n",
        "\n",
        "# Вывод топ-10 самых частых слов\n",
        "print(\"\\nТоп-10 слов по частоте:\")\n",
        "for word, count in word_freq.most_common(10):\n",
        "    print(f\"{word}: {count}\")"
      ],
      "metadata": {
        "colab": {
          "base_uri": "https://localhost:8080/"
        },
        "id": "1DbQP0KTQ9Yv",
        "outputId": "7572cd70-0f8a-494c-87b7-5c3f63e03952"
      },
      "execution_count": 7,
      "outputs": [
        {
          "output_type": "stream",
          "name": "stdout",
          "text": [
            "\n",
            "Топ-10 слов по частоте:\n",
            "the: 665\n",
            "and: 345\n",
            "of: 293\n",
            "a: 291\n",
            "his: 219\n",
            "to: 214\n",
            "he: 213\n",
            "said: 192\n",
            "in: 188\n",
            "you: 156\n"
          ]
        }
      ]
    },
    {
      "cell_type": "code",
      "source": [
        "# Анализ контекста слова (said)\n",
        "task_3.find_word_contexts(\n",
        "            text=chapter_text,\n",
        "            target_word=\"said\",\n",
        "            left_len=3,\n",
        "            right_len=3,\n",
        "            cut_length=True,\n",
        "            filename=\"said_contexts.txt\"\n",
        "        )"
      ],
      "metadata": {
        "colab": {
          "base_uri": "https://localhost:8080/"
        },
        "id": "tsmrT0NkRGSX",
        "outputId": "9780a8c4-03ec-4ea5-91f9-5f55a245a112"
      },
      "execution_count": 8,
      "outputs": [
        {
          "output_type": "stream",
          "name": "stdout",
          "text": [
            "he said sternly\n",
            "he said gaily\n",
            "me mulligan stephen said quietly\n",
            "he said frankly\n",
            "black panther stephen said\n",
            "mulligan said\n",
            "i was stephen said with energy and\n",
            "s upper pocket said lend us a\n",
            "the handkerchief he said the bardâ s\n",
            "he said quietly\n",
            "buck mulligan said\n",
            "your mother he said\n",
            "killed her stephen said gloomily\n",
            "you buck mulligan said\n",
            "he said in a kind\n",
            "of it he said contentedly\n",
            "thanks stephen said\n",
            "ship last night said buck mulligan says\n",
            "at yourself he said you dreadful bard\n",
            "room buck mulligan said\n",
            "a mirror he said\n",
            "and pointing stephen said with bitterness it\n",
            "he said kindly\n",
            "him stay stephen said\n",
            "his own voice said do you remember\n",
            "frowned quickly and said what\n",
            "making tea stephen said and went across\n",
            "buck mulligan said\n",
            "you said stephen answered o\n",
            "in his heart said very coldly i\n",
            "towards stephen and said look at the\n",
            "all day he said\n",
            "m coming stephen said turning\n",
            "sake buck mulligan said\n",
            "this morning stephen said\n",
            "buck mulligan said\n",
            "want it stephen said\n",
            "choked buck mulligan said\n",
            "it buck mulligan said\n",
            "the lock stephen said coming forward\n",
            "m melting he said as the candle\n",
            "he said\n",
            "it black stephen said thirstily\n",
            "buck mulligan said\n",
            "the doorway and said quietly that woman\n",
            "lumps each he said\n",
            "from the loaf said in an old\n",
            "old mother grogan said\n",
            "is tea haines said\n",
            "s folk he said very earnestly for\n",
            "i doubt it said stephen gravely\n",
            "buck mulligan said in the same\n",
            "i fancy stephen said as he ate\n",
            "he said in a finical\n",
            "maâ am mulligan said\n",
            "morning sir she said\n",
            "mulligan said glancing at her\n",
            "the islanders mulligan said to haines casually\n",
            "a quart stephen said\n",
            "am buck mulligan said pouring milk into\n",
            "it sir she said\n",
            "like that he said to her somewhat\n",
            "that now she said\n",
            "the old woman said to haines\n",
            "irish buck mulligan said\n",
            "was irish she said by the sound\n",
            "english buck mulligan said and he thinks\n",
            "the old woman said and iâ m\n",
            "name for it said buck mulligan\n",
            "the old woman said slipping the ring\n",
            "haines said to her have\n",
            "she said halting\n",
            "look pleasant haines said to him smiling\n",
            "owe twopence he said\n",
            "enough sir she said taking the coin\n",
            "to stephen and said seriously dedalus\n",
            "reminds me haines said rising that i\n",
            "first buck mulligan said\n",
            "then he said to haines the\n",
            "the gulfstream stephen said as he let\n",
            "the table and said with warmth of\n",
            "mean it haines said still speaking to\n",
            "of the hammock said i donâ t\n",
            "to stephen and said with coarse vigour\n",
            "stephen said\n",
            "you buck mulligan said and then you\n",
            "little hope stephen said from her or\n",
            "me kinch he said\n",
            "your snotrag he said\n",
            "quarter hat he said\n",
            "have it stephen said preceding them\n",
            "quid buck mulligan said\n",
            "the tower and said at last rather\n",
            "built buck mulligan said when the french\n",
            "so long stephen said listlessly it can\n",
            "my curiosity haines said amiably\n",
            "buck mulligan said\n",
            "haines said beginning to point\n",
            "in loose laughter said to stephenâ s\n",
            "the morning stephen said to haines\n",
            "of dedalus he said\n",
            "wonderful tale haines said bringing them to\n",
            "it somewhere he said bemused\n",
            "down all i said and tell tom\n",
            "beside stephen and said we oughtnâ t\n",
            "o haines said you have heard\n",
            "after meals stephen said drily\n",
            "to me stephen said\n",
            "thank you stephen said taking a cigarette\n",
            "of course he said as they went\n",
            "in me stephen said with grim displeasure\n",
            "two masters stephen said an english and\n",
            "haines said\n",
            "a third stephen said there is who\n",
            "haines said again\n",
            "understand that he said calmly\n",
            "hainesâ s voice said and i feel\n",
            "out there he said\n",
            "the young man said grasping again his\n",
            "buck mulligan said\n",
            "buck mulligan said\n",
            "later on haines said\n",
            "going mulligan he said\n",
            "kinch buck mulligan said to keep my\n",
            "and twopence he said for a pint\n",
            "hands before him said solemnly he who\n",
            "you again haines said turning as stephen\n",
            "good stephen said\n",
            "asculum stephen said glancing at the\n",
            "and he said another victory like\n",
            "you armstrong stephen said\n",
            "me sir comyn said\n",
            "me now stephen said poking the boyâ\n",
            "pier sir armstrong said\n",
            "kingstown pier stephen said\n",
            "no more comyn said\n",
            "after stephen said\n",
            "turn over stephen said quietly\n",
            "the riddle stephen said the cock crew\n",
            "a silence cochrane said what is it\n",
            "all again he said and show them\n",
            "mr deasy said i was to\n",
            "very simple stephen said as he stood\n",
            "the others stephen said as he followed\n",
            "run on stephen said\n",
            "side sir stephen said\n",
            "moment mr deasy said till i restore\n",
            "financial settlement he said\n",
            "two he said strapping and stowing\n",
            "three mr deasy said turning his little\n",
            "three twelve he said\n",
            "you sir stephen said gathering the money\n",
            "all mr deasy said\n",
            "that mr deasy said\n",
            "often empty stephen said\n",
            "save mr deasy said pointing his finger\n",
            "was mr deasy said\n",
            "his empire stephen said the sun never\n",
            "a french celt said that\n",
            "tell you he said solemnly what is\n",
            "couldnâ t he said joyously\n",
            "big words stephen said which make us\n",
            "his thoughtful voice said\n",
            "too mr deasy said\n",
            "alas stephen said\n",
            "rectas mr deasy said firmly was his\n",
            "me mr deasy said\n",
            "excuse me he said over his shoulder\n",
            "then mr deasy said rising\n",
            "nutshell mr deasy said\n",
            "read mr deasy said\n",
            "mr dedalus he said\n",
            "dying he said again if not\n",
            "a merchant stephen said is one who\n",
            "light mr deasy said gravely\n",
            "stephen said\n",
            "history stephen said is a nightmare\n",
            "ways mr deasy said\n",
            "you are he said\n",
            "foresee mr deasy said that you will\n",
            "learner rather stephen said\n",
            "he said\n",
            "yes mr deasy said\n",
            "will try stephen said and let you\n",
            "do mr deasy said briskly\n",
            "do mr deasy said\n",
            "morning sir stephen said putting the sheets\n",
            "all mr deasy said as he searched\n",
            "morning sir stephen said again bowing to\n",
            "yes sir stephen said turning back at\n",
            "to say he said\n",
            "in mr deasy said solemnly\n",
            "\n",
            "Найдено 192 вхождений слова 'said'. Результаты записаны в 'said_contexts.txt'.\n"
          ]
        }
      ]
    },
    {
      "cell_type": "markdown",
      "source": [
        "Для работы с пользовательским вводом на основе кода task_3.py"
      ],
      "metadata": {
        "id": "VeVZ4PsgSIEv"
      }
    },
    {
      "cell_type": "code",
      "source": [
        "import task_3\n",
        "\n",
        "url = input(\"Введите URL страницы с текстом (по умолчанию используется Улисс Джойса): \").strip()\n",
        "if not url:\n",
        "    url = \"https://www.gutenberg.org/files/4300/4300-h/4300-h.htm\"\n",
        "    print(f\"Используется стандартный URL: {url}\")\n",
        "\n",
        "html = task_3.download_webpage(url)\n",
        "if not html:\n",
        "    print(\"Не удалось загрузить страницу.\")\n",
        "    exit()\n",
        "\n",
        "chapter_text = task_3.extract_chapter1_text(html)\n",
        "if not chapter_text:\n",
        "    print(\"Не удалось извлечь текст первой главы.\")\n",
        "    exit()\n",
        "\n",
        "print(\"\\nПервая глава успешно извлечена.\")\n",
        "\n",
        "freqs = task_3.count_word_frequencies(chapter_text)\n",
        "print(\"\\nТоп-10 слов по частоте:\")\n",
        "for word, count in freqs.most_common(10):\n",
        "    print(f\"{word}: {count}\")\n",
        "\n",
        "search_word = input(\"\\nВведите слово для поиска контекстов: \").strip()\n",
        "if not search_word:\n",
        "    print(\"Слово не введено.\")\n",
        "    exit()\n",
        "\n",
        "try:\n",
        "    left_len = int(input(\"Введите длину левого контекста (в словах): \"))\n",
        "    right_len = int(input(\"Введите длину правого контекста (в словах): \"))\n",
        "except ValueError:\n",
        "    print(\"Ошибка: введите целое число.\")\n",
        "    exit()\n",
        "\n",
        "cut_choice = input(\"Ограничить контекст одним предложением? (да/нет): \").strip().lower()\n",
        "cut_length = cut_choice in ['да', 'yes', 'y']\n",
        "\n",
        "filename = f\"{search_word}_contexts.txt\"\n",
        "task_3.find_word_contexts(chapter_text, search_word, left_len, right_len, cut_length=cut_length, filename=filename)\n",
        "\n",
        "print(f\"\\nРезультаты записаны в файл: {filename}\")"
      ],
      "metadata": {
        "colab": {
          "base_uri": "https://localhost:8080/"
        },
        "id": "9x2qsxutumdQ",
        "outputId": "6e6e41ed-32ce-4f20-fc11-c7e82f193fa0"
      },
      "execution_count": 27,
      "outputs": [
        {
          "output_type": "stream",
          "name": "stdout",
          "text": [
            "Введите URL страницы с текстом (по умолчанию используется Улисс Джойса): https://www.gutenberg.org/files/4300/4300-h/4300-h.htm\n",
            "\n",
            "Первая глава успешно извлечена.\n",
            "\n",
            "Топ-10 слов по частоте:\n",
            "the: 665\n",
            "and: 345\n",
            "of: 293\n",
            "a: 291\n",
            "his: 219\n",
            "to: 214\n",
            "he: 213\n",
            "said: 192\n",
            "in: 188\n",
            "you: 156\n",
            "\n",
            "Введите слово для поиска контекстов: walked\n",
            "Введите длину левого контекста (в словах): 3\n",
            "Введите длину правого контекста (в словах): 4\n",
            "Ограничить контекст одним предложением? (да/нет): да\n",
            "stephenâ s and walked with him round the\n",
            "he walked off quickly round the\n",
            "he walked on\n",
            "been laughing guardedly walked on beside stephen and\n",
            "he walked on waiting to be\n",
            "turning as stephen walked up the path and\n",
            "he walked along the upwardcurving path\n",
            "of him that walked the waves through the\n",
            "of him that walked the waves\n",
            "\n",
            "Найдено 9 вхождений слова 'walked'. Результаты записаны в 'walked_contexts.txt'.\n",
            "\n",
            "Результаты записаны в файл: walked_contexts.txt\n"
          ]
        }
      ]
    },
    {
      "cell_type": "markdown",
      "source": [
        "Task_2.py"
      ],
      "metadata": {
        "id": "2jKLEyfHq-0S"
      }
    },
    {
      "cell_type": "markdown",
      "source": [
        "Этот код реализует класс TFIDFProcessor, который вычисляет важные метрики обработки текстов:\n",
        "\n",
        "*   TF (Term Frequency) — частота слова в документе\n",
        "*   IDF (Inverse Document Frequency) — редкость слова по всем документам\n",
        "*   TF-IDF — комбинация TF и IDF, которая показывает насколько важным является слово в конкретном документе"
      ],
      "metadata": {
        "id": "UOY98GXPrePL"
      }
    },
    {
      "cell_type": "code",
      "source": [
        "from google.colab import files\n",
        "\n",
        "uploaded = files.upload()"
      ],
      "metadata": {
        "colab": {
          "base_uri": "https://localhost:8080/",
          "height": 73
        },
        "id": "4P-byp2DsUxU",
        "outputId": "aeed60bd-3c2c-41ea-92c1-750b16384a04"
      },
      "execution_count": 16,
      "outputs": [
        {
          "output_type": "display_data",
          "data": {
            "text/plain": [
              "<IPython.core.display.HTML object>"
            ],
            "text/html": [
              "\n",
              "     <input type=\"file\" id=\"files-171959a2-4d70-404b-a9a9-9e90f8224b14\" name=\"files[]\" multiple disabled\n",
              "        style=\"border:none\" />\n",
              "     <output id=\"result-171959a2-4d70-404b-a9a9-9e90f8224b14\">\n",
              "      Upload widget is only available when the cell has been executed in the\n",
              "      current browser session. Please rerun this cell to enable.\n",
              "      </output>\n",
              "      <script>// Copyright 2017 Google LLC\n",
              "//\n",
              "// Licensed under the Apache License, Version 2.0 (the \"License\");\n",
              "// you may not use this file except in compliance with the License.\n",
              "// You may obtain a copy of the License at\n",
              "//\n",
              "//      http://www.apache.org/licenses/LICENSE-2.0\n",
              "//\n",
              "// Unless required by applicable law or agreed to in writing, software\n",
              "// distributed under the License is distributed on an \"AS IS\" BASIS,\n",
              "// WITHOUT WARRANTIES OR CONDITIONS OF ANY KIND, either express or implied.\n",
              "// See the License for the specific language governing permissions and\n",
              "// limitations under the License.\n",
              "\n",
              "/**\n",
              " * @fileoverview Helpers for google.colab Python module.\n",
              " */\n",
              "(function(scope) {\n",
              "function span(text, styleAttributes = {}) {\n",
              "  const element = document.createElement('span');\n",
              "  element.textContent = text;\n",
              "  for (const key of Object.keys(styleAttributes)) {\n",
              "    element.style[key] = styleAttributes[key];\n",
              "  }\n",
              "  return element;\n",
              "}\n",
              "\n",
              "// Max number of bytes which will be uploaded at a time.\n",
              "const MAX_PAYLOAD_SIZE = 100 * 1024;\n",
              "\n",
              "function _uploadFiles(inputId, outputId) {\n",
              "  const steps = uploadFilesStep(inputId, outputId);\n",
              "  const outputElement = document.getElementById(outputId);\n",
              "  // Cache steps on the outputElement to make it available for the next call\n",
              "  // to uploadFilesContinue from Python.\n",
              "  outputElement.steps = steps;\n",
              "\n",
              "  return _uploadFilesContinue(outputId);\n",
              "}\n",
              "\n",
              "// This is roughly an async generator (not supported in the browser yet),\n",
              "// where there are multiple asynchronous steps and the Python side is going\n",
              "// to poll for completion of each step.\n",
              "// This uses a Promise to block the python side on completion of each step,\n",
              "// then passes the result of the previous step as the input to the next step.\n",
              "function _uploadFilesContinue(outputId) {\n",
              "  const outputElement = document.getElementById(outputId);\n",
              "  const steps = outputElement.steps;\n",
              "\n",
              "  const next = steps.next(outputElement.lastPromiseValue);\n",
              "  return Promise.resolve(next.value.promise).then((value) => {\n",
              "    // Cache the last promise value to make it available to the next\n",
              "    // step of the generator.\n",
              "    outputElement.lastPromiseValue = value;\n",
              "    return next.value.response;\n",
              "  });\n",
              "}\n",
              "\n",
              "/**\n",
              " * Generator function which is called between each async step of the upload\n",
              " * process.\n",
              " * @param {string} inputId Element ID of the input file picker element.\n",
              " * @param {string} outputId Element ID of the output display.\n",
              " * @return {!Iterable<!Object>} Iterable of next steps.\n",
              " */\n",
              "function* uploadFilesStep(inputId, outputId) {\n",
              "  const inputElement = document.getElementById(inputId);\n",
              "  inputElement.disabled = false;\n",
              "\n",
              "  const outputElement = document.getElementById(outputId);\n",
              "  outputElement.innerHTML = '';\n",
              "\n",
              "  const pickedPromise = new Promise((resolve) => {\n",
              "    inputElement.addEventListener('change', (e) => {\n",
              "      resolve(e.target.files);\n",
              "    });\n",
              "  });\n",
              "\n",
              "  const cancel = document.createElement('button');\n",
              "  inputElement.parentElement.appendChild(cancel);\n",
              "  cancel.textContent = 'Cancel upload';\n",
              "  const cancelPromise = new Promise((resolve) => {\n",
              "    cancel.onclick = () => {\n",
              "      resolve(null);\n",
              "    };\n",
              "  });\n",
              "\n",
              "  // Wait for the user to pick the files.\n",
              "  const files = yield {\n",
              "    promise: Promise.race([pickedPromise, cancelPromise]),\n",
              "    response: {\n",
              "      action: 'starting',\n",
              "    }\n",
              "  };\n",
              "\n",
              "  cancel.remove();\n",
              "\n",
              "  // Disable the input element since further picks are not allowed.\n",
              "  inputElement.disabled = true;\n",
              "\n",
              "  if (!files) {\n",
              "    return {\n",
              "      response: {\n",
              "        action: 'complete',\n",
              "      }\n",
              "    };\n",
              "  }\n",
              "\n",
              "  for (const file of files) {\n",
              "    const li = document.createElement('li');\n",
              "    li.append(span(file.name, {fontWeight: 'bold'}));\n",
              "    li.append(span(\n",
              "        `(${file.type || 'n/a'}) - ${file.size} bytes, ` +\n",
              "        `last modified: ${\n",
              "            file.lastModifiedDate ? file.lastModifiedDate.toLocaleDateString() :\n",
              "                                    'n/a'} - `));\n",
              "    const percent = span('0% done');\n",
              "    li.appendChild(percent);\n",
              "\n",
              "    outputElement.appendChild(li);\n",
              "\n",
              "    const fileDataPromise = new Promise((resolve) => {\n",
              "      const reader = new FileReader();\n",
              "      reader.onload = (e) => {\n",
              "        resolve(e.target.result);\n",
              "      };\n",
              "      reader.readAsArrayBuffer(file);\n",
              "    });\n",
              "    // Wait for the data to be ready.\n",
              "    let fileData = yield {\n",
              "      promise: fileDataPromise,\n",
              "      response: {\n",
              "        action: 'continue',\n",
              "      }\n",
              "    };\n",
              "\n",
              "    // Use a chunked sending to avoid message size limits. See b/62115660.\n",
              "    let position = 0;\n",
              "    do {\n",
              "      const length = Math.min(fileData.byteLength - position, MAX_PAYLOAD_SIZE);\n",
              "      const chunk = new Uint8Array(fileData, position, length);\n",
              "      position += length;\n",
              "\n",
              "      const base64 = btoa(String.fromCharCode.apply(null, chunk));\n",
              "      yield {\n",
              "        response: {\n",
              "          action: 'append',\n",
              "          file: file.name,\n",
              "          data: base64,\n",
              "        },\n",
              "      };\n",
              "\n",
              "      let percentDone = fileData.byteLength === 0 ?\n",
              "          100 :\n",
              "          Math.round((position / fileData.byteLength) * 100);\n",
              "      percent.textContent = `${percentDone}% done`;\n",
              "\n",
              "    } while (position < fileData.byteLength);\n",
              "  }\n",
              "\n",
              "  // All done.\n",
              "  yield {\n",
              "    response: {\n",
              "      action: 'complete',\n",
              "    }\n",
              "  };\n",
              "}\n",
              "\n",
              "scope.google = scope.google || {};\n",
              "scope.google.colab = scope.google.colab || {};\n",
              "scope.google.colab._files = {\n",
              "  _uploadFiles,\n",
              "  _uploadFilesContinue,\n",
              "};\n",
              "})(self);\n",
              "</script> "
            ]
          },
          "metadata": {}
        },
        {
          "output_type": "stream",
          "name": "stdout",
          "text": [
            "Saving task_2.py to task_2.py\n"
          ]
        }
      ]
    },
    {
      "cell_type": "code",
      "source": [
        "import task_2\n",
        "\n",
        "# Документы\n",
        "documents = [\n",
        "    \"Once upon a midnight dreary, while I pondered, weak and weary,\",\n",
        "    \"Over many a quaint and curious volume of forgotten lore—\",\n",
        "    \"While I nodded, nearly napping, suddenly there came a tapping,\"\n",
        "]"
      ],
      "metadata": {
        "colab": {
          "base_uri": "https://localhost:8080/"
        },
        "id": "3HGqhoO3rrKV",
        "outputId": "362a1dc5-33a0-4cd7-89bb-5eef5a320c96"
      },
      "execution_count": 18,
      "outputs": [
        {
          "output_type": "stream",
          "name": "stderr",
          "text": [
            "[nltk_data] Downloading package stopwords to /root/nltk_data...\n",
            "[nltk_data]   Unzipping corpora/stopwords.zip.\n"
          ]
        }
      ]
    },
    {
      "cell_type": "code",
      "source": [
        "# Экземпляр класса\n",
        "processor = task_2.TFIDFProcessor(documents)"
      ],
      "metadata": {
        "id": "TuLEQOkCsVFQ"
      },
      "execution_count": 19,
      "outputs": []
    },
    {
      "cell_type": "code",
      "source": [
        "# TF \"weak\" в первом документе (doc_number=0)\n",
        "tf = processor.get_tf(\"weak\", 0)\n",
        "print(f\"TF('weak', doc 0): {tf:.4f}\")"
      ],
      "metadata": {
        "colab": {
          "base_uri": "https://localhost:8080/"
        },
        "id": "GfeEz9ZIswSW",
        "outputId": "c5498bfe-8f55-46ab-e104-d5c5948af5ec"
      },
      "execution_count": 20,
      "outputs": [
        {
          "output_type": "stream",
          "name": "stdout",
          "text": [
            "TF('weak', doc 0): 0.0909\n"
          ]
        }
      ]
    },
    {
      "cell_type": "code",
      "source": [
        "# IDF \"weak\" в первом документе (doc_number=0)\n",
        "idf = processor.get_idf(\"weak\")\n",
        "print(f\"IDF('weak'): {idf:.4f}\")"
      ],
      "metadata": {
        "colab": {
          "base_uri": "https://localhost:8080/"
        },
        "id": "Itz5h2Aqswb1",
        "outputId": "b94f1e11-7c43-44bb-b976-d0143f59699a"
      },
      "execution_count": 21,
      "outputs": [
        {
          "output_type": "stream",
          "name": "stdout",
          "text": [
            "IDF('weak'): 1.4055\n"
          ]
        }
      ]
    },
    {
      "cell_type": "code",
      "source": [
        "# TF-IDF \"weak\" в первом документе (doc_number=0)\n",
        "tf_idf = processor.get_tf_idf(\"weak\", 0)\n",
        "print(f\"TF-IDF('weak', doc 0): {tf_idf:.4f}\")"
      ],
      "metadata": {
        "colab": {
          "base_uri": "https://localhost:8080/"
        },
        "id": "ea7kxRWJswho",
        "outputId": "7c5de322-c040-4843-8c07-fc467670dc98"
      },
      "execution_count": 22,
      "outputs": [
        {
          "output_type": "stream",
          "name": "stdout",
          "text": [
            "TF-IDF('weak', doc 0): 0.1278\n"
          ]
        }
      ]
    },
    {
      "cell_type": "code",
      "source": [
        "# Отключение игнорирования стопслов\n",
        "tf_idf_is = processor.get_tf_idf(\"a\", 0, ignore_stopwords=False)\n",
        "print(f\"TF-IDF('a', doc 0) [без игнорирования]: {tf_idf_is:.4f}\")"
      ],
      "metadata": {
        "colab": {
          "base_uri": "https://localhost:8080/"
        },
        "id": "6HsTd3ivswm3",
        "outputId": "e0254943-d212-40f5-c7d7-f37dbfdedee5"
      },
      "execution_count": 23,
      "outputs": [
        {
          "output_type": "stream",
          "name": "stdout",
          "text": [
            "TF-IDF('a', doc 0) [без игнорирования]: 0.0648\n"
          ]
        }
      ]
    },
    {
      "cell_type": "markdown",
      "source": [
        "Для работы с пользовательским вводом на основе кода task_2.py"
      ],
      "metadata": {
        "id": "33wiMItKt7Zr"
      }
    },
    {
      "cell_type": "code",
      "source": [
        "import task_2\n",
        "\n",
        "print(\"Введите несколько строк текста (минимум 2 слова в каждой).\")\n",
        "print(\"После ввода всех строк нажмите Enter на пустой строке.\")\n",
        "\n",
        "documents = []\n",
        "index = 1\n",
        "\n",
        "while True:\n",
        "    line = input(f\"Документ {index}: \").strip()\n",
        "    if not line:\n",
        "        if len(documents) < 1:\n",
        "            print(\"Вы не ввели ни одного документа. Пожалуйста, введите хотя бы один.\")\n",
        "        else:\n",
        "            break\n",
        "    elif len(line.split()) < 2:\n",
        "        print(\"Каждый документ должен содержать минимум 2 слова. Повторите ввод.\")\n",
        "    else:\n",
        "        documents.append(line)\n",
        "        index += 1\n",
        "\n",
        "processor = task_2.TFIDFProcessor(documents)\n",
        "\n",
        "print(\"\\nДоступные документы:\")\n",
        "for i, doc in enumerate(documents):\n",
        "    print(f\"{i}: {doc}\")\n",
        "\n",
        "try:\n",
        "    doc_num = int(input(\"\\nВведите номер документа (начиная с 0): \"))\n",
        "    if not (0 <= doc_num < len(documents)):\n",
        "        print(\"Неверный номер документа.\")\n",
        "        exit()\n",
        "except ValueError:\n",
        "    print(\"Ошибка: введите целое число.\")\n",
        "    exit()\n",
        "\n",
        "word = input(\"Введите слово для анализа: \").strip().lower()\n",
        "\n",
        "print(\"\\nИгнорировать стопслова?\")\n",
        "print(\"1. Да\")\n",
        "print(\"2. Нет\")\n",
        "choice = input(\"Выберите 1 или 2: \").strip()\n",
        "while choice not in ('1', '2'):\n",
        "    print(\"Ошибка ввода. Введите 1 или 2.\")\n",
        "    choice = input(\"Выберите 1 или 2: \").strip()\n",
        "\n",
        "ignore_stopwords = (choice == '1')\n",
        "\n",
        "tf = processor.get_tf(word, doc_num)\n",
        "idf = processor.get_idf(word)\n",
        "tf_idf = processor.get_tf_idf(word, doc_num, ignore_stopwords=ignore_stopwords)\n",
        "\n",
        "print(f\"\\nРезультаты для слова '{word}' в документе {doc_num}:\")\n",
        "print(f\"TF: {tf:.4f}\")\n",
        "print(f\"IDF: {idf:.4f}\")\n",
        "print(f\"TF-IDF: {tf_idf:.4f}\")"
      ],
      "metadata": {
        "colab": {
          "base_uri": "https://localhost:8080/"
        },
        "id": "IMQXabutBn-N",
        "outputId": "ca1de528-4bd7-4343-f3ce-f9a7a44b9e44"
      },
      "execution_count": 26,
      "outputs": [
        {
          "output_type": "stream",
          "name": "stdout",
          "text": [
            "Введите несколько строк текста (минимум 2 слова в каждой).\n",
            "После ввода всех строк нажмите Enter на пустой строке.\n",
            "Документ 1: Once upon a midnight dreary, while I pondered, weak and weary,\n",
            "Документ 2: Over many a quaint and curious volume of forgotten lore—\n",
            "Документ 3: \n",
            "\n",
            "Доступные документы:\n",
            "0: Once upon a midnight dreary, while I pondered, weak and weary,\n",
            "1: Over many a quaint and curious volume of forgotten lore—\n",
            "\n",
            "Введите номер документа (начиная с 0): 0\n",
            "Введите слово для анализа: weak\n",
            "\n",
            "Игнорировать стопслова?\n",
            "1. Да\n",
            "2. Нет\n",
            "Выберите 1 или 2: 1\n",
            "\n",
            "Результаты для слова 'weak' в документе 0:\n",
            "TF: 0.0909\n",
            "IDF: 1.0000\n",
            "TF-IDF: 0.0909\n"
          ]
        }
      ]
    }
  ]
}